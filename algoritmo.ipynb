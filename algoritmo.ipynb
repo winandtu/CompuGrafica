{
 "cells": [
  {
   "cell_type": "code",
   "execution_count": 3,
   "metadata": {},
   "outputs": [
    {
     "name": "stdout",
     "output_type": "stream",
     "text": [
      "10\n"
     ]
    }
   ],
   "source": [
    "'''a={1:\"kk\",2:\"oo\"}\n",
    "for i in a:\n",
    "\n",
    "    if i==1:\n",
    "        print(a[i])'''\n",
    "\n",
    "def probando(a,b=0):\n",
    "    calcular= a+b\n",
    "    print(calcular)\n",
    "\n",
    "probando(4,6)"
   ]
  }
 ],
 "metadata": {
  "kernelspec": {
   "display_name": "Python 3.9.1 64-bit",
   "language": "python",
   "name": "python3"
  },
  "language_info": {
   "codemirror_mode": {
    "name": "ipython",
    "version": 3
   },
   "file_extension": ".py",
   "mimetype": "text/x-python",
   "name": "python",
   "nbconvert_exporter": "python",
   "pygments_lexer": "ipython3",
   "version": "3.9.1"
  },
  "orig_nbformat": 4,
  "vscode": {
   "interpreter": {
    "hash": "f93cf593c162f2c0b7b64faa38d1317316409ab2fdabf497177edc6bc2d77adb"
   }
  }
 },
 "nbformat": 4,
 "nbformat_minor": 2
}
