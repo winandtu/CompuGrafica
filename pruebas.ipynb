{
 "cells": [
  {
   "cell_type": "code",
   "execution_count": 21,
   "metadata": {},
   "outputs": [
    {
     "name": "stdout",
     "output_type": "stream",
     "text": [
      "x = 3  / y =  10 ---- P :  -4\n",
      "x = 4  / y =  10 ---- P :  5\n",
      "x = 5  / y =  9 ---- P :  -3\n",
      "x = 6  / y =  9 ---- P :  10\n",
      "x = 7  / y =  8 ---- P :  8\n",
      "x = 8  / y =  7 ---- P :  10\n",
      "[4, 5, 6, 7, 8]\n",
      "[10, 9, 9, 8, 7]\n",
      "[5, -3, 10, 8, 10]\n"
     ]
    },
    {
     "data": {
      "image/png": "[encoded data removed]",
      "text/plain": [
       "<Figure size 432x288 with 1 Axes>"
      ]
     },
     "metadata": {
      "needs_background": "light"
     },
     "output_type": "display_data"
    }
   ],
   "source": [
    "'''a={1:\"kk\",2:\"oo\"}\n",
    "for i in a:\n",
    "\n",
    "    if i==1:\n",
    "        print(a[i])'''\n",
    "\n",
    "\n",
    "            \n",
    "import numpy as np\n",
    "import pylab as pl\n",
    "\n",
    "#Para graficar\n",
    "xpin=[]\n",
    "ypin=[]\n",
    "p=[]\n",
    "# pintar línea\n",
    "def pintar_linea_basico( punto_inicial, punto_final):\n",
    "  x_inc = 1\n",
    "  x_i = punto_inicial[0]\n",
    "  y_i = punto_inicial[1]\n",
    "  delta_y = abs( punto_final[1] - punto_inicial[1] )\n",
    "  delta_x = abs( punto_final[0] - punto_inicial[0] )\n",
    "  m = delta_y / delta_x\n",
    "  print('m -->', m )\n",
    "  print(\"x =\", x_i,\" / y = \", round( y_i ), \"--------- x_inc : \", x_inc)\n",
    "  \n",
    "  for i in range ( delta_x ):\n",
    "    y_i = punto_final[0] +  m * x_inc\n",
    "    x_inc += 1\n",
    "    #print(\"x_inc\", x_inc)\n",
    "    x_i += 1\n",
    "\n",
    "    xpin.append(x_i)\n",
    "    ypin.append(y_i)\n",
    "    #danilo.append([x_i], [y_i])\n",
    "    #da=list([x_i], [y_i])\n",
    "    print(\"x =\", x_i,\" / y = \", round( y_i ), \"--------- x_inc : \", x_inc)\n",
    "    #print(da)\n",
    "\n",
    "def midpoint_circunferencia( punto, radio ):\n",
    "  p_i = 1 - radio\n",
    "  x_i = punto [0]\n",
    "  y_i = punto [1] + radio\n",
    "  print(\"x =\", x_i,\" / y = \", y_i, \"---- P : \", p_i)\n",
    "  for i in range (radio):\n",
    "  #while (x_i < y_i):\n",
    "    if (p_i >= 0 ):\n",
    "      x_i += 1\n",
    "      y_i -= 1\n",
    "      p_i += - 2 * y_i + 2 * x_i\n",
    "    else:\n",
    "      x_i += 1     \n",
    "      p_i += 2 * x_i + 1\n",
    "    \n",
    "    xpin.append(x_i)\n",
    "    ypin.append(y_i)\n",
    "    p.append(p_i)\n",
    "    print(\"x =\", x_i,\" / y = \", y_i, \"---- P : \", p_i)\n",
    "\n",
    "\n",
    "def pintarBasico():\n",
    "    pintar_linea_basico( [-2,1], [2,5] )\n",
    "    print(xpin)\n",
    "    print(ypin)\n",
    "\n",
    "    pl.plot(xpin,ypin)\n",
    "    pl.show()\n",
    "\n",
    "def pintarCirculo():\n",
    "    midpoint_circunferencia( [3,5], 5)\n",
    "    print(xpin)\n",
    "    print(ypin)\n",
    "    print(p)\n",
    "    pl.plot(xpin,ypin)\n",
    "    pl.show()\n",
    "\n",
    "pintarCirculo()\n"
   ]
  }
 ],
 "metadata": {
  "kernelspec": {
   "display_name": "Python 3.9.1 64-bit",
   "language": "python",
   "name": "python3"
  },
  "language_info": {
   "codemirror_mode": {
    "name": "ipython",
    "version": 3
   },
   "file_extension": ".py",
   "mimetype": "text/x-python",
   "name": "python",
   "nbconvert_exporter": "python",
   "pygments_lexer": "ipython3",
   "version": "3.9.1"
  },
  "orig_nbformat": 4,
  "vscode": {
   "interpreter": {
    "hash": "f93cf593c162f2c0b7b64faa38d1317316409ab2fdabf497177edc6bc2d77adb"
   }
  }
 },
 "nbformat": 4,
 "nbformat_minor": 2
}
